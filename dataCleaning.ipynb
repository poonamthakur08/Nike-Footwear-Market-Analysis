{
  "cells": [
    {
      "cell_type": "code",
      "execution_count": 3,
      "metadata": {
        "colab": {
          "base_uri": "https://localhost:8080/"
        },
        "id": "dkIE_TuxWcdq",
        "outputId": "0462048f-5d83-4a8f-dbfd-053256e7e24e"
      },
      "outputs": [
        {
          "name": "stderr",
          "output_type": "stream",
          "text": [
            "[nltk_data] Downloading package wordnet to\n",
            "[nltk_data]     C:\\Users\\poona\\AppData\\Roaming\\nltk_data...\n",
            "[nltk_data]   Package wordnet is already up-to-date!\n",
            "[nltk_data] Downloading package stopwords to\n",
            "[nltk_data]     C:\\Users\\poona\\AppData\\Roaming\\nltk_data...\n",
            "[nltk_data]   Package stopwords is already up-to-date!\n"
          ]
        }
      ],
      "source": [
        "import pandas as pd\n",
        "import numpy as np\n",
        "from nltk.corpus import stopwords\n",
        "import re\n",
        "import nltk\n",
        "nltk.download('wordnet')\n",
        "nltk.download('stopwords')\n",
        "from nltk.corpus import stopwords\n",
        "from sklearn.feature_extraction.text import CountVectorizer\n",
        "from sklearn.feature_extraction.text import TfidfVectorizer\n",
        "from nltk.stem import WordNetLemmatizer\n",
        "from nltk.stem import PorterStemmer\n",
        "#import matplotlib.pyplot as plt \n",
        "from wordcloud import WordCloud\n",
        "from pathlib import Path\n",
        "from pandas import DataFrame\n",
        "import warnings\n",
        "warnings.filterwarnings('ignore', category=DeprecationWarning) \n",
        "warnings.filterwarnings('ignore', category=FutureWarning) \n",
        "warnings.filterwarnings('ignore', category=UserWarning)"
      ]
    },
    {
      "cell_type": "code",
      "execution_count": 7,
      "metadata": {
        "id": "Tp7ehmo0Wcds"
      },
      "outputs": [],
      "source": [
        "corpus_path = Path('E:\\Masters_Coursework\\Sem4\\Text Mining\\Project\\CORPUS')\n",
        "project_path = Path('E:\\Masters_Coursework\\Sem4\\Text Mining\\Project')\n",
        "data_path = Path('E:\\Masters_Coursework\\Sem4\\Text Mining\\Project\\Data')\n",
        "labels = [\"+Nike +footwear +market +ranking\",\n",
        "\"+global +footwear +market +leader\",\n",
        "\"+top +brand in +footwear +industry\",\n",
        "\"+Nike +market +share in +footwear\",\n",
        "\"Nike footwear\",\n",
        "\"footwear industry\"]\n",
        "endpoint=\"https://newsapi.org/v2/everything\"\n",
        "filename=\"newsApiData.csv\"\n",
        "nytimes_data =  \"fav_sneaker_data.txt\"\n",
        "nike_vs_adidas_data =  \"nike_vs_adidas_data.txt\"\n",
        "nike_reviews_data = \"nike_reviews_data.csv\"\n",
        "twitter_data = \"twitter_data.csv\"\n",
        "filtered_twitter_data = \"filtered_twitter_data.csv\"\n",
        "nike_adidas_reviews_data = \"nike_adidas_reviews_data.csv\"\n",
        "filtered_nike_adidas_reviews_data = \"filtered_nike_adidas_reviews_data.csv\"\n",
        "ct_vectorized_df_cols =[]\n",
        "tidf_vectorized_df_cols =[]"
      ]
    },
    {
      "cell_type": "code",
      "execution_count": null,
      "metadata": {
        "id": "gYaPt7ToWcdt"
      },
      "outputs": [],
      "source": [
        "def countVectorizer(df,col, add_labels = False):\n",
        "    MyVect_CV=CountVectorizer(input=\"content\",stop_words=\"english\",max_features=50)\n",
        "    Vect_CV = MyVect_CV.fit_transform(df[col])\n",
        "    ColumnNamesCV=MyVect_CV.get_feature_names_out()\n",
        "    ct_vectorized_df_cols = ColumnNamesCV\n",
        "    ct_vectorized_df=pd.DataFrame(Vect_CV.toarray(),columns=ColumnNamesCV)\n",
        "\n",
        "    if add_labels:\n",
        "        ct_vectorized_df = concat_labels_to_df(df['Label'],ct_vectorized_df)\n",
        "    ct_vectorized_df"
      ]
    },
    {
      "cell_type": "code",
      "execution_count": null,
      "metadata": {
        "id": "Ra32Wgg_Wcdt"
      },
      "outputs": [],
      "source": [
        "def stemming_tokenizer(str_input):\n",
        "    words = re.sub(r'[^A-Za-z]+', \" \", str_input).lower().split()\n",
        "    return words\n",
        "\n",
        "def tfidfvectorizer(df,col, add_labels = False):\n",
        "    ## Tfidf Vectorizer\n",
        "    MyVect_TF=TfidfVectorizer(input='content', stop_words='english', tokenizer = stemming_tokenizer,max_features=1000)\n",
        "    Vect_TF = MyVect_TF.fit_transform(df[col])\n",
        "    ColumnNamesTF=MyVect_TF.get_feature_names_out()\n",
        "    tidf_vectorized_df_cols = ColumnNamesTF\n",
        "    tidf_vectorized_df=pd.DataFrame(Vect_TF.toarray(),columns=ColumnNamesTF)\n",
        "\n",
        "    if add_labels:\n",
        "        tidf_vectorized_df = concat_labels_to_df(df['Label'],tidf_vectorized_df)   \n",
        "    tidf_vectorized_df"
      ]
    },
    {
      "cell_type": "code",
      "execution_count": null,
      "metadata": {
        "id": "1Ce6kZaiWcdu"
      },
      "outputs": [],
      "source": [
        "def lemmatization(text):\n",
        "    word_net_lemmatizer = WordNetLemmatizer()\n",
        "    words = str(text).split()\n",
        "    words = [word_net_lemmatizer.lemmatize(word) for word in words]\n",
        "    return ' '.join(words)\n",
        "\n",
        "def stemming_words(text):\n",
        "    porter_stemmer = PorterStemmer()\n",
        "    words = str(text).split()\n",
        "    words = [porter_stemmer.stem(word) for word in words]\n",
        "    return ' '.join(words)"
      ]
    },
    {
      "cell_type": "code",
      "execution_count": null,
      "metadata": {
        "id": "AK8jhcxcWcdu"
      },
      "outputs": [],
      "source": [
        "def concat_labels_to_df(labelList,vectorized_df):\n",
        "    Labels_DF = DataFrame(labelList,columns=['LABEL'])\n",
        "    dfs = [Labels_DF, vectorized_df]\n",
        "    return pd.concat(dfs,axis=1, join='inner')\n",
        "    "
      ]
    },
    {
      "cell_type": "code",
      "execution_count": null,
      "metadata": {
        "id": "oecrCeWTWcdu"
      },
      "outputs": [],
      "source": [
        "#https://r-graph-gallery.com/196-the-wordcloud2-library.html\n",
        "def visualizeCountVect():\n",
        "    text = \" \".join(title for title in ct_vectorized_df_cols)\n",
        "    word_cloud = WordCloud(collocations = False, background_color = 'white').generate(text)\n",
        "    plt.imshow(word_cloud, interpolation='bilinear')\n",
        "    plt.axis(\"off\")\n",
        "    plt.show()\n",
        "\n",
        "def visualizeTfidfVect():\n",
        "    text = \" \".join(title for title in tidf_vectorized_df_cols)\n",
        "    word_cloud = WordCloud(collocations = False, background_color = 'white').generate(text)\n",
        "    plt.imshow(word_cloud, interpolation='bilinear')\n",
        "    plt.axis(\"off\")\n",
        "    plt.show()"
      ]
    },
    {
      "cell_type": "code",
      "execution_count": null,
      "metadata": {
        "id": "TIh3gRlDWcdu",
        "outputId": "c6f11a5c-2389-453d-f10d-985a5eefb873"
      },
      "outputs": [
        {
          "name": "stderr",
          "output_type": "stream",
          "text": [
            "C:\\Users\\poona\\AppData\\Local\\Temp\\ipykernel_30500\\2826190069.py:2: FutureWarning: The error_bad_lines argument has been deprecated and will be removed in a future version. Use on_bad_lines in the future.\n",
            "\n",
            "\n",
            "  news_df = pd.read_csv(news_path, error_bad_lines=False)\n",
            "c:\\Users\\poona\\AppData\\Local\\Programs\\Python\\Python39\\lib\\site-packages\\sklearn\\feature_extraction\\text.py:528: UserWarning: The parameter 'token_pattern' will not be used since 'tokenizer' is not None'\n",
            "  warnings.warn(\n"
          ]
        }
      ],
      "source": [
        "news_path = data_path.joinpath(filename)\n",
        "news_df = pd.read_csv(news_path, error_bad_lines=False)\n",
        "news_df['Description'] = news_df['Description'].apply(lemmatization)\n",
        "news_df['Description'] = news_df['Description'].apply(stemming_words)\n",
        "countVectorizer(news_df,'Description',True)\n",
        "tfidfvectorizer(news_df,'Description',True)\n"
      ]
    },
    {
      "cell_type": "code",
      "execution_count": null,
      "metadata": {
        "id": "We-WnpkZWcdu",
        "outputId": "408b42af-9d27-4991-e4fd-ddef36137986"
      },
      "outputs": [
        {
          "name": "stderr",
          "output_type": "stream",
          "text": [
            "C:\\Users\\poona\\AppData\\Local\\Temp\\ipykernel_14652\\2883589694.py:2: FutureWarning: The error_bad_lines argument has been deprecated and will be removed in a future version. Use on_bad_lines in the future.\n",
            "\n",
            "\n",
            "  reviews_df = pd.read_csv(review_path, error_bad_lines=False,encoding=\"utf-8\")\n",
            "Skipping line 14: expected 6 fields, saw 7\n",
            "Skipping line 23: expected 6 fields, saw 7\n",
            "Skipping line 30: expected 6 fields, saw 8\n",
            "Skipping line 46: expected 6 fields, saw 7\n",
            "Skipping line 50: expected 6 fields, saw 8\n",
            "Skipping line 55: expected 6 fields, saw 9\n",
            "Skipping line 71: expected 6 fields, saw 8\n",
            "Skipping line 73: expected 6 fields, saw 8\n",
            "Skipping line 79: expected 6 fields, saw 7\n",
            "Skipping line 86: expected 6 fields, saw 13\n",
            "Skipping line 98: expected 6 fields, saw 14\n",
            "Skipping line 100: expected 6 fields, saw 9\n",
            "Skipping line 108: expected 6 fields, saw 9\n",
            "Skipping line 115: expected 6 fields, saw 8\n",
            "Skipping line 118: expected 6 fields, saw 16\n",
            "Skipping line 119: expected 6 fields, saw 12\n",
            "Skipping line 121: expected 6 fields, saw 9\n",
            "Skipping line 132: expected 6 fields, saw 7\n",
            "Skipping line 136: expected 6 fields, saw 7\n",
            "Skipping line 140: expected 6 fields, saw 8\n",
            "Skipping line 144: expected 6 fields, saw 12\n",
            "Skipping line 149: expected 6 fields, saw 9\n",
            "Skipping line 154: expected 6 fields, saw 10\n",
            "Skipping line 157: expected 6 fields, saw 11\n",
            "Skipping line 158: expected 6 fields, saw 9\n",
            "Skipping line 161: expected 6 fields, saw 12\n",
            "Skipping line 166: expected 6 fields, saw 15\n",
            "Skipping line 167: expected 6 fields, saw 9\n",
            "Skipping line 171: expected 6 fields, saw 9\n",
            "Skipping line 175: expected 6 fields, saw 11\n",
            "Skipping line 177: expected 6 fields, saw 7\n",
            "Skipping line 180: expected 6 fields, saw 11\n",
            "Skipping line 185: expected 6 fields, saw 12\n",
            "Skipping line 189: expected 6 fields, saw 9\n",
            "Skipping line 194: expected 6 fields, saw 14\n",
            "Skipping line 203: expected 6 fields, saw 11\n",
            "Skipping line 209: expected 6 fields, saw 15\n",
            "Skipping line 216: expected 6 fields, saw 7\n",
            "Skipping line 225: expected 6 fields, saw 7\n",
            "Skipping line 236: expected 6 fields, saw 10\n",
            "Skipping line 237: expected 6 fields, saw 8\n",
            "Skipping line 244: expected 6 fields, saw 14\n",
            "Skipping line 249: expected 6 fields, saw 8\n",
            "Skipping line 251: expected 6 fields, saw 7\n",
            "Skipping line 253: expected 6 fields, saw 9\n",
            "Skipping line 259: expected 6 fields, saw 8\n",
            "Skipping line 260: expected 6 fields, saw 8\n",
            "Skipping line 274: expected 6 fields, saw 7\n",
            "Skipping line 279: expected 6 fields, saw 13\n",
            "Skipping line 281: expected 6 fields, saw 12\n",
            "Skipping line 283: expected 6 fields, saw 8\n",
            "Skipping line 285: expected 6 fields, saw 9\n",
            "Skipping line 289: expected 6 fields, saw 7\n",
            "Skipping line 290: expected 6 fields, saw 11\n",
            "Skipping line 294: expected 6 fields, saw 19\n",
            "Skipping line 296: expected 6 fields, saw 7\n",
            "Skipping line 298: expected 6 fields, saw 7\n",
            "Skipping line 311: expected 6 fields, saw 11\n",
            "Skipping line 313: expected 6 fields, saw 8\n",
            "Skipping line 314: expected 6 fields, saw 7\n",
            "Skipping line 316: expected 6 fields, saw 11\n",
            "Skipping line 317: expected 6 fields, saw 7\n",
            "Skipping line 320: expected 6 fields, saw 25\n",
            "\n"
          ]
        }
      ],
      "source": [
        "review_path = data_path.joinpath(nike_reviews_data)\n",
        "reviews_df = pd.read_csv(review_path, error_bad_lines=False,encoding=\"utf-8\")\n",
        "\n",
        "reviews_df['Review'] = reviews_df['Review'].apply(lemmatization)\n",
        "reviews_df['Review'] = reviews_df['Review'].apply(stemming_words)\n",
        "countVectorizer(reviews_df,'Review')\n",
        "tfidfvectorizer(reviews_df,'Review')\n",
        "    "
      ]
    },
    {
      "cell_type": "code",
      "execution_count": null,
      "metadata": {
        "id": "Lr7_o7NMWcdv",
        "outputId": "52079137-d36a-40cb-f0b9-3e4f17bbc01f"
      },
      "outputs": [
        {
          "name": "stderr",
          "output_type": "stream",
          "text": [
            "C:\\Users\\poona\\AppData\\Local\\Temp\\ipykernel_30500\\111497263.py:2: FutureWarning: The error_bad_lines argument has been deprecated and will be removed in a future version. Use on_bad_lines in the future.\n",
            "\n",
            "\n",
            "  twitter_df = pd.read_csv(twitter_path, error_bad_lines=False)\n",
            "c:\\Users\\poona\\AppData\\Local\\Programs\\Python\\Python39\\lib\\site-packages\\sklearn\\feature_extraction\\text.py:528: UserWarning: The parameter 'token_pattern' will not be used since 'tokenizer' is not None'\n",
            "  warnings.warn(\n"
          ]
        }
      ],
      "source": [
        "twitter_path = data_path.joinpath(twitter_data)\n",
        "twitter_df = pd.read_csv(twitter_path, error_bad_lines=False)\n",
        "twitter_df['Tweet Text'] = twitter_df['Tweet Text'].apply(lemmatization)\n",
        "twitter_df['Tweet Text'] = twitter_df['Tweet Text'].apply(stemming_words)\n",
        "countVectorizer(twitter_df,'Tweet Text')\n",
        "tfidfvectorizer(twitter_df,'Tweet Text')"
      ]
    },
    {
      "cell_type": "code",
      "execution_count": 5,
      "metadata": {
        "colab": {
          "base_uri": "https://localhost:8080/"
        },
        "id": "YBtw-P98Wcdv",
        "outputId": "54c88dae-b53e-46dd-f8ff-8e90214f7022"
      },
      "outputs": [
        {
          "name": "stderr",
          "output_type": "stream",
          "text": [
            "C:\\Users\\poona\\AppData\\Local\\Temp\\ipykernel_25908\\3945882462.py:2: FutureWarning: The error_bad_lines argument has been deprecated and will be removed in a future version. Use on_bad_lines in the future.\n",
            "\n",
            "\n",
            "  nike_adidas_reviews_df = pd.read_csv(nike_adidas_reviews_path, error_bad_lines=False)\n"
          ]
        }
      ],
      "source": [
        "nike_adidas_reviews_path = data_path.joinpath(nike_adidas_reviews_data)\n",
        "nike_adidas_reviews_df = pd.read_csv(nike_adidas_reviews_path, error_bad_lines=False)"
      ]
    },
    {
      "cell_type": "code",
      "execution_count": 18,
      "metadata": {
        "id": "W06g2EICXGlG"
      },
      "outputs": [],
      "source": [
        "url = 'https://text-analysis12.p.rapidapi.com/sentiment-analysis/api/v1.1'\n",
        "apiKey = 'e9369cc7d9msh79551c47a19a17cp1c2614jsn015b04564d72'\n",
        "all_reviews = []\n",
        "user_reviews_columns = ['Brand','Review','Sentiment']"
      ]
    },
    {
      "cell_type": "code",
      "execution_count": 20,
      "metadata": {
        "id": "y6v9iUW2XuAr"
      },
      "outputs": [
        {
          "name": "stdout",
          "output_type": "stream",
          "text": [
            "error occured while labelling of the data. Out of range float values are not JSON compliant)\n",
            "error occured while labelling of the data. Out of range float values are not JSON compliant)\n",
            "error occured while labelling of the data. Out of range float values are not JSON compliant)\n",
            "error occured while labelling of the data. Out of range float values are not JSON compliant)\n",
            "error occured while labelling of the data. Out of range float values are not JSON compliant)\n",
            "error occured while labelling of the data. Out of range float values are not JSON compliant)\n",
            "error occured while labelling of the data. Out of range float values are not JSON compliant)\n",
            "error occured while labelling of the data. Out of range float values are not JSON compliant)\n",
            "error occured while labelling of the data. Out of range float values are not JSON compliant)\n",
            "error occured while labelling of the data. Out of range float values are not JSON compliant)\n",
            "error occured while labelling of the data. Out of range float values are not JSON compliant)\n",
            "error occured while labelling of the data. Out of range float values are not JSON compliant)\n",
            "error occured while labelling of the data. Out of range float values are not JSON compliant)\n",
            "error occured while labelling of the data. Out of range float values are not JSON compliant)\n",
            "error occured while labelling of the data. Out of range float values are not JSON compliant)\n",
            "error occured while labelling of the data. Out of range float values are not JSON compliant)\n",
            "error occured while labelling of the data. Out of range float values are not JSON compliant)\n"
          ]
        }
      ],
      "source": [
        "import json\n",
        "import requests\n",
        "\n",
        "\n",
        "filtered_df_path = data_path.joinpath(filtered_nike_adidas_reviews_data)\n",
        "#nike_adidas_reviews_df = pd.read_csv(nike_adidas_reviews_path, error_bad_lines=False)\n",
        "\n",
        "\n",
        "def label_reviews_data():\n",
        "        for idx in range(len(nike_adidas_reviews_df)):\n",
        "            review_details_dict = {}\n",
        "            text_value = nike_adidas_reviews_df['Review'][idx]\n",
        "            Brand = nike_adidas_reviews_df['Brand'][idx]\n",
        "            try:\n",
        "                payload = {\n",
        "                    \"language\": \"english\",\n",
        "                    \"text\": text_value\n",
        "                }\n",
        "                headers = {\n",
        "                    \"content-type\": \"application/json\",\n",
        "                    \"X-RapidAPI-Key\": apiKey,\n",
        "                    \"X-RapidAPI-Host\": \"text-analysis12.p.rapidapi.com\"\n",
        "                }    \n",
        "                response = requests.request(\"POST\", url, json=payload, headers=headers)\n",
        "                txt = json.loads(response.text)\n",
        "                review_details_dict['Brand'] = Brand\n",
        "                review_details_dict['Review'] = text_value\n",
        "                review_details_dict['Sentiment'] = txt[\"sentiment\"]\n",
        "                all_reviews.append(review_details_dict)\n",
        "            except Exception as exp:\n",
        "                print(f\"error occured while labelling of the data. {exp})\")  \n",
        "\n",
        "        #filtered_df = pd.DataFrame(all_reviews,columns = user_reviews_columns)\n",
        "        #filtered_df.to_csv(filtered_df_path,index=False)    \n",
        "\n",
        "label_reviews_data()"
      ]
    },
    {
      "cell_type": "code",
      "execution_count": 12,
      "metadata": {
        "id": "_vna-LLxgO82"
      },
      "outputs": [],
      "source": [
        "filtered_df = pd.DataFrame(all_reviews,columns = user_reviews_columns)\n",
        "filtered_df.to_csv(filtered_df_path,index=False) "
      ]
    },
    {
      "cell_type": "code",
      "execution_count": 22,
      "metadata": {},
      "outputs": [
        {
          "name": "stderr",
          "output_type": "stream",
          "text": [
            "C:\\Users\\poona\\AppData\\Local\\Temp\\ipykernel_25908\\3545048189.py:1: FutureWarning: The error_bad_lines argument has been deprecated and will be removed in a future version. Use on_bad_lines in the future.\n",
            "\n",
            "\n",
            "  labeled_nike_adidas_reviews_df = pd.read_csv(filtered_df_path, error_bad_lines=False)\n"
          ]
        }
      ],
      "source": [
        "labeled_nike_adidas_reviews_df = pd.read_csv(filtered_df_path, error_bad_lines=False)"
      ]
    },
    {
      "cell_type": "code",
      "execution_count": 23,
      "metadata": {},
      "outputs": [
        {
          "data": {
            "text/plain": [
              "623"
            ]
          },
          "execution_count": 23,
          "metadata": {},
          "output_type": "execute_result"
        }
      ],
      "source": [
        "len(labeled_nike_adidas_reviews_df)"
      ]
    },
    {
      "cell_type": "code",
      "execution_count": null,
      "metadata": {},
      "outputs": [],
      "source": []
    }
  ],
  "metadata": {
    "colab": {
      "provenance": []
    },
    "kernelspec": {
      "display_name": "Python 3",
      "language": "python",
      "name": "python3"
    },
    "language_info": {
      "codemirror_mode": {
        "name": "ipython",
        "version": 3
      },
      "file_extension": ".py",
      "mimetype": "text/x-python",
      "name": "python",
      "nbconvert_exporter": "python",
      "pygments_lexer": "ipython3",
      "version": "3.9.7"
    },
    "orig_nbformat": 4,
    "vscode": {
      "interpreter": {
        "hash": "afe57345d6b78de11303afd6d7a92989906a5fc5cba5d6e46dc784aa2e3ade50"
      }
    }
  },
  "nbformat": 4,
  "nbformat_minor": 0
}
