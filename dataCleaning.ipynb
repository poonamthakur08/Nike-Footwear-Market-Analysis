{
 "cells": [
  {
   "cell_type": "code",
   "execution_count": 34,
   "metadata": {},
   "outputs": [
    {
     "name": "stderr",
     "output_type": "stream",
     "text": [
      "[nltk_data] Downloading package wordnet to\n",
      "[nltk_data]     C:\\Users\\poona\\AppData\\Roaming\\nltk_data...\n",
      "[nltk_data]   Package wordnet is already up-to-date!\n"
     ]
    }
   ],
   "source": [
    "import pandas as pd\n",
    "import numpy as np\n",
    "from nltk.corpus import stopwords\n",
    "import re\n",
    "import nltk\n",
    "nltk.download('wordnet')\n",
    "from nltk.corpus import stopwords\n",
    "from sklearn.feature_extraction.text import CountVectorizer\n",
    "from sklearn.feature_extraction.text import TfidfVectorizer\n",
    "from nltk.stem import WordNetLemmatizer\n",
    "from nltk.stem import PorterStemmer\n",
    "import matplotlib.pyplot as plt \n",
    "from wordcloud import WordCloud\n",
    "from pathlib import Path\n",
    "from pandas import DataFrame"
   ]
  },
  {
   "cell_type": "code",
   "execution_count": 76,
   "metadata": {},
   "outputs": [],
   "source": [
    "corpus_path = Path('E:\\Masters_Coursework\\Sem4\\Text Mining\\Project\\CORPUS')\n",
    "project_path = Path('E:\\Masters_Coursework\\Sem4\\Text Mining\\Project')\n",
    "labels = [\"+Nike +footwear +market +ranking\",\n",
    "\"+global +footwear +market +leader\",\n",
    "\"+top +brand in +footwear +industry\",\n",
    "\"+Nike +market +share in +footwear\",\n",
    "\"Nike footwear\",\n",
    "\"footwear industry\"]\n",
    "endpoint=\"https://newsapi.org/v2/everything\"\n",
    "filename=\"newsApiData.csv\"\n",
    "nytimes_data =  \"fav_sneaker_data.txt\"\n",
    "nike_vs_adidas_data =  \"nike_vs_adidas_data.txt\"\n",
    "nike_reviews_data = \"nike_reviews_data.csv\"\n",
    "twitter_data = \"twitter_data.csv\"\n",
    "ct_vectorized_df_cols =[]\n",
    "tidf_vectorized_df_cols =[]\n",
    "\n"
   ]
  },
  {
   "cell_type": "code",
   "execution_count": 38,
   "metadata": {},
   "outputs": [],
   "source": [
    "def countVectorizer(df,col, add_labels = False):\n",
    "    MyVect_CV=CountVectorizer(input=\"content\",stop_words=\"english\",max_features=50)\n",
    "    Vect_CV = MyVect_CV.fit_transform(df[col])\n",
    "    ColumnNamesCV=MyVect_CV.get_feature_names()\n",
    "    ct_vectorized_df_cols = ColumnNamesCV\n",
    "    ct_vectorized_df=pd.DataFrame(Vect_CV.toarray(),columns=ColumnNamesCV)\n",
    "\n",
    "    if add_labels:\n",
    "        ct_vectorized_df = concat_labels_to_df(df['Label'],ct_vectorized_df)\n",
    "    ct_vectorized_df"
   ]
  },
  {
   "cell_type": "code",
   "execution_count": 83,
   "metadata": {},
   "outputs": [],
   "source": [
    "def stemming_tokenizer(str_input):\n",
    "    words = re.sub(r'[^A-Za-z]+', \" \", str_input).lower().split()\n",
    "    return words\n",
    "\n",
    "def tfidfvectorizer(df,col, add_labels = False):\n",
    "    ## Tfidf Vectorizer\n",
    "    MyVect_TF=TfidfVectorizer(input='content', stop_words='english', tokenizer = stemming_tokenizer,max_features=1000)\n",
    "    Vect_TF = MyVect_TF.fit_transform(df[col])\n",
    "    ColumnNamesTF=MyVect_TF.get_feature_names()\n",
    "    tidf_vectorized_df_cols = ColumnNamesTF\n",
    "    tidf_vectorized_df=pd.DataFrame(Vect_TF.toarray(),columns=ColumnNamesTF)\n",
    "\n",
    "    if add_labels:\n",
    "        tidf_vectorized_df = concat_labels_to_df(df['Label'],tidf_vectorized_df)   \n",
    "    tidf_vectorized_df"
   ]
  },
  {
   "cell_type": "code",
   "execution_count": 68,
   "metadata": {},
   "outputs": [],
   "source": [
    "def lemmatization(text):\n",
    "    word_net_lemmatizer = WordNetLemmatizer()\n",
    "    words = str(text).split()\n",
    "    words = [word_net_lemmatizer.lemmatize(word) for word in words]\n",
    "    return ' '.join(words)\n",
    "\n",
    "def stemming_words(text):\n",
    "    porter_stemmer = PorterStemmer()\n",
    "    words = str(text).split()\n",
    "    words = [porter_stemmer.stem(word) for word in words]\n",
    "    return ' '.join(words)"
   ]
  },
  {
   "cell_type": "code",
   "execution_count": 35,
   "metadata": {},
   "outputs": [],
   "source": [
    "def concat_labels_to_df(labelList,vectorized_df):\n",
    "    Labels_DF = DataFrame(labelList,columns=['LABEL'])\n",
    "    dfs = [Labels_DF, vectorized_df]\n",
    "    return pd.concat(dfs,axis=1, join='inner')\n",
    "    "
   ]
  },
  {
   "cell_type": "code",
   "execution_count": 15,
   "metadata": {},
   "outputs": [],
   "source": [
    "def visualizeCountVect():\n",
    "    text = \" \".join(title for title in ct_vectorized_df_cols)\n",
    "    word_cloud = WordCloud(collocations = False, background_color = 'white').generate(text)\n",
    "    plt.imshow(word_cloud, interpolation='bilinear')\n",
    "    plt.axis(\"off\")\n",
    "    plt.show()\n",
    "\n",
    "def visualizeTfidfVect():\n",
    "    text = \" \".join(title for title in tidf_vectorized_df_cols)\n",
    "    word_cloud = WordCloud(collocations = False, background_color = 'white').generate(text)\n",
    "    plt.imshow(word_cloud, interpolation='bilinear')\n",
    "    plt.axis(\"off\")\n",
    "    plt.show()"
   ]
  },
  {
   "cell_type": "code",
   "execution_count": 69,
   "metadata": {},
   "outputs": [],
   "source": [
    "news_path = project_path.joinpath(filename)\n",
    "news_df = pd.read_csv(news_path, error_bad_lines=False)\n",
    "news_df['Description'] = news_df['Description'].apply(lemmatization)\n",
    "news_df['Description'] = news_df['Description'].apply(stemming_words)\n",
    "countVectorizer(news_df,'Description',True)\n",
    "tfidfvectorizer(news_df,'Description',True)\n"
   ]
  },
  {
   "cell_type": "code",
   "execution_count": 65,
   "metadata": {},
   "outputs": [
    {
     "name": "stderr",
     "output_type": "stream",
     "text": [
      "b'Skipping line 16: expected 6 fields, saw 7\\nSkipping line 21: expected 6 fields, saw 7\\nSkipping line 31: expected 6 fields, saw 8\\nSkipping line 42: expected 6 fields, saw 7\\nSkipping line 49: expected 6 fields, saw 9\\nSkipping line 51: expected 6 fields, saw 8\\nSkipping line 70: expected 6 fields, saw 8\\nSkipping line 73: expected 6 fields, saw 8\\nSkipping line 78: expected 6 fields, saw 7\\nSkipping line 86: expected 6 fields, saw 13\\nSkipping line 97: expected 6 fields, saw 14\\nSkipping line 99: expected 6 fields, saw 9\\nSkipping line 107: expected 6 fields, saw 9\\nSkipping line 114: expected 6 fields, saw 12\\nSkipping line 115: expected 6 fields, saw 8\\nSkipping line 117: expected 6 fields, saw 16\\nSkipping line 120: expected 6 fields, saw 9\\nSkipping line 132: expected 6 fields, saw 7\\nSkipping line 136: expected 6 fields, saw 7\\nSkipping line 139: expected 6 fields, saw 8\\nSkipping line 143: expected 6 fields, saw 12\\nSkipping line 149: expected 6 fields, saw 9\\nSkipping line 153: expected 6 fields, saw 10\\nSkipping line 156: expected 6 fields, saw 11\\nSkipping line 157: expected 6 fields, saw 12\\nSkipping line 160: expected 6 fields, saw 9\\nSkipping line 165: expected 6 fields, saw 15\\nSkipping line 167: expected 6 fields, saw 9\\nSkipping line 171: expected 6 fields, saw 9\\nSkipping line 175: expected 6 fields, saw 11\\nSkipping line 177: expected 6 fields, saw 7\\nSkipping line 179: expected 6 fields, saw 11\\nSkipping line 187: expected 6 fields, saw 12\\nSkipping line 189: expected 6 fields, saw 9\\nSkipping line 194: expected 6 fields, saw 14\\n'\n"
     ]
    }
   ],
   "source": [
    "review_path = project_path.joinpath(nike_reviews_data)\n",
    "reviews_df = pd.read_csv(review_path, error_bad_lines=False)\n",
    "\n",
    "reviews_df['Review'] = reviews_df['Review'].apply(lemmatization)\n",
    "reviews_df['Review'] = reviews_df['Review'].apply(stemming_words)\n",
    "countVectorizer(reviews_df,'Review')\n",
    "tfidfvectorizer(reviews_df,'Review')"
   ]
  },
  {
   "cell_type": "code",
   "execution_count": 78,
   "metadata": {},
   "outputs": [
    {
     "ename": "KeyError",
     "evalue": "'Tweet Text'",
     "output_type": "error",
     "traceback": [
      "\u001b[1;31m---------------------------------------------------------------------------\u001b[0m",
      "\u001b[1;31mKeyError\u001b[0m                                  Traceback (most recent call last)",
      "\u001b[1;32mc:\\Users\\poona\\anaconda3\\lib\\site-packages\\pandas\\core\\indexes\\base.py\u001b[0m in \u001b[0;36mget_loc\u001b[1;34m(self, key, method, tolerance)\u001b[0m\n\u001b[0;32m   3079\u001b[0m             \u001b[1;32mtry\u001b[0m\u001b[1;33m:\u001b[0m\u001b[1;33m\u001b[0m\u001b[1;33m\u001b[0m\u001b[0m\n\u001b[1;32m-> 3080\u001b[1;33m                 \u001b[1;32mreturn\u001b[0m \u001b[0mself\u001b[0m\u001b[1;33m.\u001b[0m\u001b[0m_engine\u001b[0m\u001b[1;33m.\u001b[0m\u001b[0mget_loc\u001b[0m\u001b[1;33m(\u001b[0m\u001b[0mcasted_key\u001b[0m\u001b[1;33m)\u001b[0m\u001b[1;33m\u001b[0m\u001b[1;33m\u001b[0m\u001b[0m\n\u001b[0m\u001b[0;32m   3081\u001b[0m             \u001b[1;32mexcept\u001b[0m \u001b[0mKeyError\u001b[0m \u001b[1;32mas\u001b[0m \u001b[0merr\u001b[0m\u001b[1;33m:\u001b[0m\u001b[1;33m\u001b[0m\u001b[1;33m\u001b[0m\u001b[0m\n",
      "\u001b[1;32mpandas\\_libs\\index.pyx\u001b[0m in \u001b[0;36mpandas._libs.index.IndexEngine.get_loc\u001b[1;34m()\u001b[0m\n",
      "\u001b[1;32mpandas\\_libs\\index.pyx\u001b[0m in \u001b[0;36mpandas._libs.index.IndexEngine.get_loc\u001b[1;34m()\u001b[0m\n",
      "\u001b[1;32mpandas\\_libs\\hashtable_class_helper.pxi\u001b[0m in \u001b[0;36mpandas._libs.hashtable.PyObjectHashTable.get_item\u001b[1;34m()\u001b[0m\n",
      "\u001b[1;32mpandas\\_libs\\hashtable_class_helper.pxi\u001b[0m in \u001b[0;36mpandas._libs.hashtable.PyObjectHashTable.get_item\u001b[1;34m()\u001b[0m\n",
      "\u001b[1;31mKeyError\u001b[0m: 'Tweet Text'",
      "\nThe above exception was the direct cause of the following exception:\n",
      "\u001b[1;31mKeyError\u001b[0m                                  Traceback (most recent call last)",
      "\u001b[1;32m<ipython-input-78-8f01c44bae58>\u001b[0m in \u001b[0;36m<module>\u001b[1;34m\u001b[0m\n\u001b[0;32m      3\u001b[0m \u001b[0mtwitter_df\u001b[0m\u001b[1;33m[\u001b[0m\u001b[1;34m'Tweet Text'\u001b[0m\u001b[1;33m]\u001b[0m \u001b[1;33m=\u001b[0m \u001b[0mtwitter_df\u001b[0m\u001b[1;33m[\u001b[0m\u001b[1;34m'Tweet Text'\u001b[0m\u001b[1;33m]\u001b[0m\u001b[1;33m.\u001b[0m\u001b[0mapply\u001b[0m\u001b[1;33m(\u001b[0m\u001b[0mlemmatization\u001b[0m\u001b[1;33m)\u001b[0m\u001b[1;33m\u001b[0m\u001b[1;33m\u001b[0m\u001b[0m\n\u001b[0;32m      4\u001b[0m \u001b[0mtwitter_df\u001b[0m\u001b[1;33m[\u001b[0m\u001b[1;34m'Tweet Text'\u001b[0m\u001b[1;33m]\u001b[0m \u001b[1;33m=\u001b[0m \u001b[0mtwitter_df\u001b[0m\u001b[1;33m[\u001b[0m\u001b[1;34m'Tweet Text'\u001b[0m\u001b[1;33m]\u001b[0m\u001b[1;33m.\u001b[0m\u001b[0mapply\u001b[0m\u001b[1;33m(\u001b[0m\u001b[0mstemming_words\u001b[0m\u001b[1;33m)\u001b[0m\u001b[1;33m\u001b[0m\u001b[1;33m\u001b[0m\u001b[0m\n\u001b[1;32m----> 5\u001b[1;33m \u001b[0mcountVectorizer\u001b[0m\u001b[1;33m(\u001b[0m\u001b[0mnews_df\u001b[0m\u001b[1;33m,\u001b[0m\u001b[1;34m'Tweet Text'\u001b[0m\u001b[1;33m,\u001b[0m\u001b[1;32mTrue\u001b[0m\u001b[1;33m)\u001b[0m\u001b[1;33m\u001b[0m\u001b[1;33m\u001b[0m\u001b[0m\n\u001b[0m\u001b[0;32m      6\u001b[0m \u001b[0mtfidfvectorizer\u001b[0m\u001b[1;33m(\u001b[0m\u001b[0mnews_df\u001b[0m\u001b[1;33m,\u001b[0m\u001b[1;34m'Tweet Text'\u001b[0m\u001b[1;33m,\u001b[0m\u001b[1;32mTrue\u001b[0m\u001b[1;33m)\u001b[0m\u001b[1;33m\u001b[0m\u001b[1;33m\u001b[0m\u001b[0m\n",
      "\u001b[1;32m<ipython-input-38-10c7e7d5f45e>\u001b[0m in \u001b[0;36mcountVectorizer\u001b[1;34m(df, col, add_labels)\u001b[0m\n\u001b[0;32m      1\u001b[0m \u001b[1;32mdef\u001b[0m \u001b[0mcountVectorizer\u001b[0m\u001b[1;33m(\u001b[0m\u001b[0mdf\u001b[0m\u001b[1;33m,\u001b[0m\u001b[0mcol\u001b[0m\u001b[1;33m,\u001b[0m \u001b[0madd_labels\u001b[0m \u001b[1;33m=\u001b[0m \u001b[1;32mFalse\u001b[0m\u001b[1;33m)\u001b[0m\u001b[1;33m:\u001b[0m\u001b[1;33m\u001b[0m\u001b[1;33m\u001b[0m\u001b[0m\n\u001b[0;32m      2\u001b[0m     \u001b[0mMyVect_CV\u001b[0m\u001b[1;33m=\u001b[0m\u001b[0mCountVectorizer\u001b[0m\u001b[1;33m(\u001b[0m\u001b[0minput\u001b[0m\u001b[1;33m=\u001b[0m\u001b[1;34m\"content\"\u001b[0m\u001b[1;33m,\u001b[0m\u001b[0mstop_words\u001b[0m\u001b[1;33m=\u001b[0m\u001b[1;34m\"english\"\u001b[0m\u001b[1;33m,\u001b[0m\u001b[0mmax_features\u001b[0m\u001b[1;33m=\u001b[0m\u001b[1;36m50\u001b[0m\u001b[1;33m)\u001b[0m\u001b[1;33m\u001b[0m\u001b[1;33m\u001b[0m\u001b[0m\n\u001b[1;32m----> 3\u001b[1;33m     \u001b[0mVect_CV\u001b[0m \u001b[1;33m=\u001b[0m \u001b[0mMyVect_CV\u001b[0m\u001b[1;33m.\u001b[0m\u001b[0mfit_transform\u001b[0m\u001b[1;33m(\u001b[0m\u001b[0mdf\u001b[0m\u001b[1;33m[\u001b[0m\u001b[0mcol\u001b[0m\u001b[1;33m]\u001b[0m\u001b[1;33m)\u001b[0m\u001b[1;33m\u001b[0m\u001b[1;33m\u001b[0m\u001b[0m\n\u001b[0m\u001b[0;32m      4\u001b[0m     \u001b[0mColumnNamesCV\u001b[0m\u001b[1;33m=\u001b[0m\u001b[0mMyVect_CV\u001b[0m\u001b[1;33m.\u001b[0m\u001b[0mget_feature_names\u001b[0m\u001b[1;33m(\u001b[0m\u001b[1;33m)\u001b[0m\u001b[1;33m\u001b[0m\u001b[1;33m\u001b[0m\u001b[0m\n\u001b[0;32m      5\u001b[0m     \u001b[0mct_vectorized_df_cols\u001b[0m \u001b[1;33m=\u001b[0m \u001b[0mColumnNamesCV\u001b[0m\u001b[1;33m\u001b[0m\u001b[1;33m\u001b[0m\u001b[0m\n",
      "\u001b[1;32mc:\\Users\\poona\\anaconda3\\lib\\site-packages\\pandas\\core\\frame.py\u001b[0m in \u001b[0;36m__getitem__\u001b[1;34m(self, key)\u001b[0m\n\u001b[0;32m   3022\u001b[0m             \u001b[1;32mif\u001b[0m \u001b[0mself\u001b[0m\u001b[1;33m.\u001b[0m\u001b[0mcolumns\u001b[0m\u001b[1;33m.\u001b[0m\u001b[0mnlevels\u001b[0m \u001b[1;33m>\u001b[0m \u001b[1;36m1\u001b[0m\u001b[1;33m:\u001b[0m\u001b[1;33m\u001b[0m\u001b[1;33m\u001b[0m\u001b[0m\n\u001b[0;32m   3023\u001b[0m                 \u001b[1;32mreturn\u001b[0m \u001b[0mself\u001b[0m\u001b[1;33m.\u001b[0m\u001b[0m_getitem_multilevel\u001b[0m\u001b[1;33m(\u001b[0m\u001b[0mkey\u001b[0m\u001b[1;33m)\u001b[0m\u001b[1;33m\u001b[0m\u001b[1;33m\u001b[0m\u001b[0m\n\u001b[1;32m-> 3024\u001b[1;33m             \u001b[0mindexer\u001b[0m \u001b[1;33m=\u001b[0m \u001b[0mself\u001b[0m\u001b[1;33m.\u001b[0m\u001b[0mcolumns\u001b[0m\u001b[1;33m.\u001b[0m\u001b[0mget_loc\u001b[0m\u001b[1;33m(\u001b[0m\u001b[0mkey\u001b[0m\u001b[1;33m)\u001b[0m\u001b[1;33m\u001b[0m\u001b[1;33m\u001b[0m\u001b[0m\n\u001b[0m\u001b[0;32m   3025\u001b[0m             \u001b[1;32mif\u001b[0m \u001b[0mis_integer\u001b[0m\u001b[1;33m(\u001b[0m\u001b[0mindexer\u001b[0m\u001b[1;33m)\u001b[0m\u001b[1;33m:\u001b[0m\u001b[1;33m\u001b[0m\u001b[1;33m\u001b[0m\u001b[0m\n\u001b[0;32m   3026\u001b[0m                 \u001b[0mindexer\u001b[0m \u001b[1;33m=\u001b[0m \u001b[1;33m[\u001b[0m\u001b[0mindexer\u001b[0m\u001b[1;33m]\u001b[0m\u001b[1;33m\u001b[0m\u001b[1;33m\u001b[0m\u001b[0m\n",
      "\u001b[1;32mc:\\Users\\poona\\anaconda3\\lib\\site-packages\\pandas\\core\\indexes\\base.py\u001b[0m in \u001b[0;36mget_loc\u001b[1;34m(self, key, method, tolerance)\u001b[0m\n\u001b[0;32m   3080\u001b[0m                 \u001b[1;32mreturn\u001b[0m \u001b[0mself\u001b[0m\u001b[1;33m.\u001b[0m\u001b[0m_engine\u001b[0m\u001b[1;33m.\u001b[0m\u001b[0mget_loc\u001b[0m\u001b[1;33m(\u001b[0m\u001b[0mcasted_key\u001b[0m\u001b[1;33m)\u001b[0m\u001b[1;33m\u001b[0m\u001b[1;33m\u001b[0m\u001b[0m\n\u001b[0;32m   3081\u001b[0m             \u001b[1;32mexcept\u001b[0m \u001b[0mKeyError\u001b[0m \u001b[1;32mas\u001b[0m \u001b[0merr\u001b[0m\u001b[1;33m:\u001b[0m\u001b[1;33m\u001b[0m\u001b[1;33m\u001b[0m\u001b[0m\n\u001b[1;32m-> 3082\u001b[1;33m                 \u001b[1;32mraise\u001b[0m \u001b[0mKeyError\u001b[0m\u001b[1;33m(\u001b[0m\u001b[0mkey\u001b[0m\u001b[1;33m)\u001b[0m \u001b[1;32mfrom\u001b[0m \u001b[0merr\u001b[0m\u001b[1;33m\u001b[0m\u001b[1;33m\u001b[0m\u001b[0m\n\u001b[0m\u001b[0;32m   3083\u001b[0m \u001b[1;33m\u001b[0m\u001b[0m\n\u001b[0;32m   3084\u001b[0m         \u001b[1;32mif\u001b[0m \u001b[0mtolerance\u001b[0m \u001b[1;32mis\u001b[0m \u001b[1;32mnot\u001b[0m \u001b[1;32mNone\u001b[0m\u001b[1;33m:\u001b[0m\u001b[1;33m\u001b[0m\u001b[1;33m\u001b[0m\u001b[0m\n",
      "\u001b[1;31mKeyError\u001b[0m: 'Tweet Text'"
     ]
    }
   ],
   "source": [
    "twitter_path = project_path.joinpath(twitter_data)\n",
    "twitter_df = pd.read_csv(twitter_path, error_bad_lines=False)\n",
    "twitter_df['Tweet Text'] = twitter_df['Tweet Text'].apply(lemmatization)\n",
    "twitter_df['Tweet Text'] = twitter_df['Tweet Text'].apply(stemming_words)\n",
    "countVectorizer(twitter_df,'Tweet Text')\n",
    "tfidfvectorizer(twitter_df,'Tweet Text')"
   ]
  },
  {
   "cell_type": "code",
   "execution_count": null,
   "metadata": {},
   "outputs": [],
   "source": []
  }
 ],
 "metadata": {
  "kernelspec": {
   "display_name": "base",
   "language": "python",
   "name": "python3"
  },
  "language_info": {
   "codemirror_mode": {
    "name": "ipython",
    "version": 3
   },
   "file_extension": ".py",
   "mimetype": "text/x-python",
   "name": "python",
   "nbconvert_exporter": "python",
   "pygments_lexer": "ipython3",
   "version": "3.8.8"
  },
  "orig_nbformat": 4,
  "vscode": {
   "interpreter": {
    "hash": "3fc7a5a3ce4ebf1c60b6a449fa3a9318bbc0e30cf0c24cfb5c56f66eefe8fea4"
   }
  }
 },
 "nbformat": 4,
 "nbformat_minor": 2
}
