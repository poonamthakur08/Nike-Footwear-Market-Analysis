{
  "cells": [
    {
      "cell_type": "code",
      "execution_count": 10,
      "metadata": {
        "colab": {
          "base_uri": "https://localhost:8080/"
        },
        "id": "e6BLHOKSx3Ed",
        "outputId": "f242e6e6-6c51-4fb0-f386-1cc0fea841ee"
      },
      "outputs": [
        {
          "output_type": "stream",
          "name": "stderr",
          "text": [
            "[nltk_data] Downloading package wordnet to /root/nltk_data...\n",
            "[nltk_data]   Package wordnet is already up-to-date!\n",
            "[nltk_data] Downloading package stopwords to /root/nltk_data...\n",
            "[nltk_data]   Package stopwords is already up-to-date!\n"
          ]
        }
      ],
      "source": [
        "import pandas as pd\n",
        "import numpy as np\n",
        "import re\n",
        "import nltk\n",
        "nltk.download('wordnet')\n",
        "nltk.download('stopwords')\n",
        "from nltk.corpus import stopwords\n",
        "from sklearn.feature_extraction.text import CountVectorizer\n",
        "from sklearn.feature_extraction.text import TfidfVectorizer\n",
        "from nltk.stem import WordNetLemmatizer\n",
        "from nltk.stem import PorterStemmer\n",
        "import matplotlib.pyplot as plt \n",
        "from wordcloud import WordCloud\n",
        "from pathlib import Path\n",
        "from pandas import DataFrame\n",
        "import warnings\n",
        "warnings.filterwarnings('ignore', category=DeprecationWarning) \n",
        "warnings.filterwarnings('ignore', category=FutureWarning) \n",
        "warnings.filterwarnings('ignore', category=UserWarning)\n"
      ]
    },
    {
      "cell_type": "code",
      "execution_count": 13,
      "metadata": {
        "id": "vNYW5jLQx3Ef"
      },
      "outputs": [],
      "source": [
        "import sklearn\n",
        "from sklearn.naive_bayes import MultinomialNB\n",
        "from sklearn.model_selection import train_test_split\n",
        "from sklearn.feature_extraction.text import CountVectorizer\n",
        "from sklearn.metrics import confusion_matrix    \n",
        "from sklearn.tree import DecisionTreeClassifier\n",
        "from sklearn.feature_extraction.text import TfidfVectorizer\n",
        "import numpy as np\n",
        "from sklearn import tree\n",
        "#import matplotlib.pyplot as plt\n",
        "from sklearn.tree import DecisionTreeClassifier, plot_tree\n",
        "import graphviz \n",
        "from sklearn.svm import LinearSVC   \n",
        "from sklearn.svm import SVC\n",
        "import seaborn as sns\n",
        "from sklearn.metrics import accuracy_score\n"
      ]
    },
    {
      "cell_type": "code",
      "execution_count": 14,
      "metadata": {
        "id": "lsonte8Sx3Eg"
      },
      "outputs": [],
      "source": [
        "corpus_path = Path('E:\\Masters_Coursework\\Sem4\\Text Mining\\Project\\CORPUS')\n",
        "project_path = Path('E:\\Masters_Coursework\\Sem4\\Text Mining\\Project')\n",
        "data_path = Path('E:\\Masters_Coursework\\Sem4\\Text Mining\\Project\\Data')\n",
        "endpoint=\"https://newsapi.org/v2/everything\"\n",
        "filename=\"newsApiData.csv\"\n",
        "nytimes_data =  \"fav_sneaker_data.txt\"\n",
        "nike_vs_adidas_data =  \"nike_vs_adidas_data.txt\"\n",
        "nike_reviews_data = \"nike_reviews_data.csv\"\n",
        "twitter_data = \"twitter_data.csv\"\n",
        "filtered_twitter_data = \"filtered_twitter_data.csv\"\n",
        "nike_adidas_reviews_data = \"nike_adidas_reviews_data.csv\"\n",
        "filtered_nike_adidas_reviews_data = \"filtered_nike_adidas_reviews_data.csv\""
      ]
    },
    {
      "cell_type": "code",
      "execution_count": 33,
      "metadata": {
        "id": "rblUCAeKx3Eg"
      },
      "outputs": [],
      "source": [
        "filtered_df_path = data_path.joinpath(filtered_nike_adidas_reviews_data)\n",
        "df_reviews = pd.read_csv('/content/sample_data/filtered_nike_adidas_reviews_data.csv', error_bad_lines=False)"
      ]
    },
    {
      "cell_type": "code",
      "source": [
        "def lemmatization(text):\n",
        "    word_net_lemmatizer = WordNetLemmatizer()\n",
        "    words = str(text).split()\n",
        "    words = [word_net_lemmatizer.lemmatize(word) for word in words]\n",
        "    return ' '.join(words)\n",
        "\n",
        "def stemming_words(text):\n",
        "    porter_stemmer = PorterStemmer()\n",
        "    words = str(text).split()\n",
        "    words = [porter_stemmer.stem(word) for word in words]\n",
        "    return ' '.join(words)\n",
        "\n",
        "df_reviews['Review'] = df_reviews['Review'].apply(lemmatization)\n",
        "df_reviews['Review'] = df_reviews['Review'].apply(stemming_words)"
      ],
      "metadata": {
        "id": "44Ij2r6P79W3"
      },
      "execution_count": 34,
      "outputs": []
    },
    {
      "cell_type": "code",
      "execution_count": 39,
      "metadata": {
        "id": "1n1jb0P1x3Eg"
      },
      "outputs": [],
      "source": [
        "nike_reviews  = df_reviews[df_reviews['Brand'] == 'nike']\n",
        "none_nike_reviews = df_reviews[df_reviews['Brand'] != 'nike']\n",
        "\n",
        "def Svm(df_reviews):\n",
        "        x = df_reviews['Review']\n",
        "        y = df_reviews['Sentiment']\n",
        "        x_train, x_test, y_train, y_test = train_test_split(x,y, stratify=y, test_size=0.25, random_state=42)\n",
        "        SVM_Model = LinearSVC(C=1)\n",
        "        \n",
        "        vectorizer = TfidfVectorizer(token_pattern=u'(?ui)\\\\b\\\\w*[a-z]+\\\\w*\\\\b',stop_words='english')\n",
        "        vectorizer.fit_transform(df_reviews['Review'])\n",
        "\n",
        "        Train_X_Tfidf = vectorizer.transform(x_train)\n",
        "        Test_X_Tfidf = vectorizer.transform(x_test)\n",
        "\n",
        "                            \n",
        "        SVM_Model.fit(Train_X_Tfidf, y_train)\n",
        "        #print(\"SVM prediction using Linear Kernel:\\n\", SVM_Model.predict(Test_X_Tfidf))\n",
        "        print(\"SVM score using the Linear Kernel:\\n\",SVM_Model.score(Test_X_Tfidf,y_test))\n",
        "        #print(\"Actual:\")\n",
        "        #print(y_test)\n",
        "        SVM_matrix = confusion_matrix(y_test, SVM_Model.predict(Test_X_Tfidf))\n",
        "        print(\"\\nThe confusion matrix is:\")\n",
        "        print(SVM_matrix)\n",
        "        print(\"\\n\\n\")\n",
        " \n",
        "        SVM_Model2 = sklearn.svm.SVC(C=50, kernel='rbf', \n",
        "                           verbose=True, gamma=\"auto\")                    \n",
        "        SVM_Model2.fit(Train_X_Tfidf, y_train)\n",
        "        #print(\"SVM prediction using Radial Basis function Kernel :\\n\", SVM_Model2.predict(Test_X_Tfidf))\n",
        "        print(\"SVM score using the Radial Basis function Kernel:\\n\",SVM_Model2.score(Test_X_Tfidf,y_test))\n",
        "        #print(\"Actual:\")\n",
        "        #print(y_test)\n",
        "        print(\"RBF  :\\n\")\n",
        "        SVM_matrix2 = confusion_matrix(y_test, SVM_Model2.predict(Test_X_Tfidf))\n",
        "        print(\"\\nThe confusion matrix is:\")\n",
        "        print(SVM_matrix2)\n",
        "        print(\"\\n\\n\")\n",
        "\n",
        "        SVM_Model3=sklearn.svm.SVC(C=100, kernel='poly',degree=3,\n",
        "                           gamma=\"auto\", verbose=True)\n",
        "        SVM_Model3.fit(Train_X_Tfidf, y_train)\n",
        "        #print(\"SVM prediction using Polynomial Kernel :\\n\",SVM_Model3.predict(Test_X_Tfidf))\n",
        "        print(\"SVM score using Polynomial Kernel:\\n\",SVM_Model2.score(Test_X_Tfidf,y_test))\n",
        "        #print(\"Actual:\")\n",
        "        #print(y_test)\n",
        "        print(\"RBF  :\\n\")\n",
        "        SVM_matrix3 = confusion_matrix(y_test, SVM_Model3.predict(Test_X_Tfidf))\n",
        "        print(\"\\nThe confusion matrix is:\")\n",
        "        print(SVM_matrix3)\n",
        "        print(\"\\n\\n\")\n",
        "\n",
        "        top_features = 10\n",
        "        COLNAMES = vectorizer.get_feature_names_out()\n",
        "        coef = SVM_Model.coef_.ravel()\n",
        "        top_positive_coefficients = np.argsort(coef,axis=0)[-top_features:]\n",
        "        top_positive_coefficients = top_positive_coefficients[top_positive_coefficients < 3000]\n",
        "\n",
        "        top_negative_coefficients = np.argsort(coef,axis=0)[:top_features]\n",
        "        top_negative_coefficients = top_negative_coefficients[top_negative_coefficients < 3000]\n",
        "\n",
        "        top_coefficients = np.hstack([top_negative_coefficients, top_positive_coefficients])\n",
        "        # create plot\n",
        "        plt.figure(figsize=(15, 5))\n",
        "        colors = [\"red\" if c < 0 else \"blue\" for c in coef[top_coefficients]]\n",
        "        plt.bar(x=  np.arange(len(top_coefficients))  , height=coef[top_coefficients], width=.5,  color=colors)\n",
        "        feature_names = np.array(COLNAMES)\n",
        "        plt.xticks(np.arange(0, len(top_coefficients)), feature_names[top_coefficients], rotation=60, ha=\"right\")\n",
        "        plt.show()"
      ]
    },
    {
      "cell_type": "code",
      "execution_count": 40,
      "metadata": {
        "colab": {
          "base_uri": "https://localhost:8080/",
          "height": 1000
        },
        "id": "NTAU6o90x3Eh",
        "outputId": "47777981-5cd2-4c6b-e248-fe7b26455174"
      },
      "outputs": [
        {
          "output_type": "stream",
          "name": "stdout",
          "text": [
            "SVM score using the Linear Kernel:\n",
            " 0.6923076923076923\n",
            "\n",
            "The confusion matrix is:\n",
            "[[34  0  4]\n",
            " [ 7  0  2]\n",
            " [11  0 20]]\n",
            "\n",
            "\n",
            "\n",
            "[LibSVM]SVM score using the Radial Basis function Kernel:\n",
            " 0.48717948717948717\n",
            "RBF  :\n",
            "\n",
            "\n",
            "The confusion matrix is:\n",
            "[[38  0  0]\n",
            " [ 9  0  0]\n",
            " [31  0  0]]\n",
            "\n",
            "\n",
            "\n",
            "[LibSVM]SVM score using Polynomial Kernel:\n",
            " 0.48717948717948717\n",
            "RBF  :\n",
            "\n",
            "\n",
            "The confusion matrix is:\n",
            "[[38  0  0]\n",
            " [ 9  0  0]\n",
            " [31  0  0]]\n",
            "\n",
            "\n",
            "\n"
          ]
        },
        {
          "output_type": "display_data",
          "data": {
            "text/plain": [
              "<Figure size 1500x500 with 1 Axes>"
            ],
            "image/png": "[encoded data removed]"
          },
          "metadata": {}
        }
      ],
      "source": [
        "Svm(nike_reviews)"
      ]
    },
    {
      "cell_type": "code",
      "source": [
        "Svm(none_nike_reviews)"
      ],
      "metadata": {
        "colab": {
          "base_uri": "https://localhost:8080/",
          "height": 1000
        },
        "id": "4TVNvk2O3PsK",
        "outputId": "50865e00-699e-4e67-9685-7cd3a2dd19d5"
      },
      "execution_count": 41,
      "outputs": [
        {
          "output_type": "stream",
          "name": "stdout",
          "text": [
            "SVM score using the Linear Kernel:\n",
            " 0.6410256410256411\n",
            "\n",
            "The confusion matrix is:\n",
            "[[43  0  5]\n",
            " [ 8  0  2]\n",
            " [13  0  7]]\n",
            "\n",
            "\n",
            "\n",
            "[LibSVM]SVM score using the Radial Basis function Kernel:\n",
            " 0.6153846153846154\n",
            "RBF  :\n",
            "\n",
            "\n",
            "The confusion matrix is:\n",
            "[[48  0  0]\n",
            " [10  0  0]\n",
            " [20  0  0]]\n",
            "\n",
            "\n",
            "\n",
            "[LibSVM]SVM score using Polynomial Kernel:\n",
            " 0.6153846153846154\n",
            "RBF  :\n",
            "\n",
            "\n",
            "The confusion matrix is:\n",
            "[[48  0  0]\n",
            " [10  0  0]\n",
            " [20  0  0]]\n",
            "\n",
            "\n",
            "\n"
          ]
        },
        {
          "output_type": "display_data",
          "data": {
            "text/plain": [
              "<Figure size 1500x500 with 1 Axes>"
            ],
            "image/png": "[encoded data removed]"
          },
          "metadata": {}
        }
      ]
    },
    {
      "cell_type": "code",
      "source": [],
      "metadata": {
        "id": "grwBxkIW3UuY"
      },
      "execution_count": null,
      "outputs": []
    }
  ],
  "metadata": {
    "kernelspec": {
      "display_name": "Python 3",
      "language": "python",
      "name": "python3"
    },
    "language_info": {
      "codemirror_mode": {
        "name": "ipython",
        "version": 3
      },
      "file_extension": ".py",
      "mimetype": "text/x-python",
      "name": "python",
      "nbconvert_exporter": "python",
      "pygments_lexer": "ipython3",
      "version": "3.9.7"
    },
    "orig_nbformat": 4,
    "colab": {
      "provenance": []
    }
  },
  "nbformat": 4,
  "nbformat_minor": 0
}